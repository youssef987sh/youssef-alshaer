{
  "nbformat": 4,
  "nbformat_minor": 0,
  "metadata": {
    "colab": {
      "provenance": [],
      "authorship_tag": "ABX9TyOA3X4S+GwqmH/rm6m1K+cb",
      "include_colab_link": true
    },
    "kernelspec": {
      "name": "python3",
      "display_name": "Python 3"
    },
    "language_info": {
      "name": "python"
    }
  },
  "cells": [
    {
      "cell_type": "markdown",
      "metadata": {
        "id": "view-in-github",
        "colab_type": "text"
      },
      "source": [
        "<a href=\"https://colab.research.google.com/github/youssef987sh/youssef-alshaer/blob/main/yosef_alshaer.ipynb\" target=\"_parent\"><img src=\"https://colab.research.google.com/assets/colab-badge.svg\" alt=\"Open In Colab\"/></a>"
      ]
    },
    {
      "cell_type": "code",
      "execution_count": 80,
      "metadata": {
        "colab": {
          "base_uri": "https://localhost:8080/"
        },
        "id": "1h1MlHdTG2H3",
        "outputId": "b9e837be-7653-4f9f-eb39-6500eb9c00a2"
      },
      "outputs": [
        {
          "output_type": "stream",
          "name": "stdout",
          "text": [
            "{'HTTP': 80, 'HTTPS': 443, 'FTP': 21, 'DNS': 53}\n"
          ]
        }
      ],
      "source": [
        "#Q1 A\n",
        "L1 = ['HTTP', 'HTTPS', 'FTP', 'DNS']\n",
        "L2 = [80, 443, 21, 53]\n",
        "\n",
        "d = {}\n",
        "for i in range(len(L1)):\n",
        "    d[L1[i]] = L2[i]\n",
        "print(d)"
      ]
    },
    {
      "cell_type": "code",
      "source": [
        "#Q1 B\n",
        "def factorial_calc(n):\n",
        "    result = 1\n",
        "    for i in range(n,1,-1):\n",
        "        result *= i\n",
        "    return result\n",
        "\n",
        "num = int(input(\"Enter a number to calculat its factorial: \"))\n",
        "print(\"The factorial of \" ,num, \" is: \" , factorial_calc(num))\n"
      ],
      "metadata": {
        "colab": {
          "base_uri": "https://localhost:8080/"
        },
        "id": "vZJPMRmNP9mP",
        "outputId": "4003ea6b-b741-4899-c005-945ced35bd69"
      },
      "execution_count": 81,
      "outputs": [
        {
          "output_type": "stream",
          "name": "stdout",
          "text": [
            "Enter a number to calculat its factorial: 5\n",
            "The factorial of  5  is:  120\n"
          ]
        }
      ]
    },
    {
      "cell_type": "code",
      "source": [
        "#Q1  C\n",
        "L = ['Network', 'Bio', 'Programming', 'Physics', 'Music']\n",
        "length = len(L)\n",
        "i = 0\n",
        "\n",
        "while i < length:\n",
        "    if L[i].startswith('B'):\n",
        "        print(L[i])\n",
        "    i += 1"
      ],
      "metadata": {
        "colab": {
          "base_uri": "https://localhost:8080/"
        },
        "id": "_gddIq6l9gM2",
        "outputId": "4cba959f-5882-4ad7-ed7f-982cde6906ec"
      },
      "execution_count": 82,
      "outputs": [
        {
          "output_type": "stream",
          "name": "stdout",
          "text": [
            "Bio\n"
          ]
        }
      ]
    },
    {
      "cell_type": "code",
      "source": [
        "#Q1  D\n",
        "d = {}\n",
        "i = 0\n",
        "while i < 11:\n",
        "    d[i] = i + 1\n",
        "    i += 1\n",
        "print(d)"
      ],
      "metadata": {
        "colab": {
          "base_uri": "https://localhost:8080/"
        },
        "id": "AUmPiXyYJmvt",
        "outputId": "3e3d43ef-34e0-4969-d2ed-28f4a60f9482"
      },
      "execution_count": 78,
      "outputs": [
        {
          "output_type": "stream",
          "name": "stdout",
          "text": [
            "{0: 1, 1: 2, 2: 3, 3: 4, 4: 5, 5: 6, 6: 7, 7: 8, 8: 9, 9: 10, 10: 11}\n"
          ]
        }
      ]
    },
    {
      "cell_type": "code",
      "source": [
        "#Q2\n",
        "def bi2de(bi):\n",
        "    dec = 0\n",
        "    for i in range(len(bi)):\n",
        "        if bi[i] != '0' and bi[i] != '1':\n",
        "            print(\"Invalid input. Please enter a binary number.\")\n",
        "            return\n",
        "        dec += int(bi[i]) * 2**(len(bi) - i - 1)\n",
        "    print('The decimal equivalent of ',bi,' is: ',dec)\n",
        "\n",
        "bi = input(\"Enter a binary number: \")\n",
        "bi2de(bi)\n"
      ],
      "metadata": {
        "colab": {
          "base_uri": "https://localhost:8080/"
        },
        "id": "NZaIIns-J50a",
        "outputId": "c547b16b-c983-475b-d4f9-3abbec972ad8"
      },
      "execution_count": 91,
      "outputs": [
        {
          "output_type": "stream",
          "name": "stdout",
          "text": [
            "Enter a binary number: 1011\n",
            "The decimal equivalent of  1011  is:  11\n"
          ]
        }
      ]
    },
    {
      "cell_type": "code",
      "source": [
        "\n",
        "#Q3\n",
        "def load_questions(file_name):\n",
        "    questions = []\n",
        "    with open(file_name, 'r') as  file:\n",
        "        lines = file.readlines()\n",
        "        for i in range(0, len(lines), 2):\n",
        "            question = lines[i].strip()\n",
        "            answer = lines[i+1].strip()\n",
        "            questions.append((question, answer))\n",
        "    return questions\n",
        "\n",
        "def save_results(user_name, score):\n",
        "    with open('results.csv', 'a') as file:\n",
        "     file.write(f\"{user_name},{score}\\n\")\n",
        "\n",
        "def take_quiz(questions):\n",
        "    score = 0\n",
        "    for question in questions:\n",
        "        print(question[0])\n",
        "        user_answer = input(\"Your answer: \")\n",
        "        if user_answer.lower() == question[1].lower():\n",
        "            score += 1\n",
        "    return score\n",
        "\n",
        "def main():\n",
        "    questions = load_questions('/content/y.txt')\n",
        "    user_name = input(\"Enter your name: \")\n",
        "    user_score = take_quiz(questions)\n",
        "    print(f\"Your score:{user_score}/20\")\n",
        "    save_results(user_name, user_score)\n",
        "if name == 'main':\n",
        "      main()"
      ],
      "metadata": {
        "colab": {
          "base_uri": "https://localhost:8080/"
        },
        "id": "m1wZbGy7LmAT",
        "outputId": "77469382-25be-4f1f-ea5a-ee5a607cfbc5"
      },
      "execution_count": 92,
      "outputs": [
        {
          "output_type": "stream",
          "name": "stdout",
          "text": [
            "Enter your name: yousef\n",
            "1-what is the cpital of syria\n",
            "Your answer: damascus\n",
            "2-what is the capital of  irak\n",
            "Your answer: bagdad\n",
            "3-what is the capital of  jordon\n",
            "Your answer: amaan\n",
            "4-what is the capital of qatar\n",
            "Your answer: ppp\n",
            "5-what is 5 * 5\n",
            "Your answer: 25\n",
            "6-what is 6*6\n",
            "Your answer: 36\n",
            "7-what is 7*7\n",
            "Your answer: 49\n",
            "8-what is 2*2\n",
            "Your answer: 4\n",
            "9-what is 3*3\n",
            "Your answer: 9\n",
            "10-what is 9*9\n",
            "Your answer: 81\n",
            "11-what is 1*9\n",
            "Your answer: 9\n",
            "12-what is 2*9\n",
            "Your answer: 1\n",
            "13-what is 3*1\n",
            "Your answer: 3\n",
            "14-what is 3*2\n",
            "Your answer: 6\n",
            "15-what is 3*5\n",
            "Your answer: 15\n",
            "16-what is 3*6\n",
            "Your answer: 18\n",
            "17-what is 2*1\n",
            "Your answer: 2\n",
            "18-what is 5*1\n",
            "Your answer: 5\n",
            "19-what is 6*1\n",
            "Your answer: 6\n",
            "20-what is 7*1\n",
            "Your answer: 7\n",
            "Your score:17/20\n"
          ]
        }
      ]
    },
    {
      "cell_type": "code",
      "source": [],
      "metadata": {
        "id": "YKSkSUAIhJQc"
      },
      "execution_count": null,
      "outputs": []
    },
    {
      "cell_type": "code",
      "source": [
        "#السؤال الرابع\n",
        "class BankAccount():\n",
        "    def __init__(self, account_number, account_holder):\n",
        "        self.account_number = account_number\n",
        "        self.account_holder = account_holder\n",
        "        self.balance = 0.0\n",
        "\n",
        "    def deposit(self, amount):\n",
        "        self.balance += amount\n",
        "        print(\"Deposited $\",amount, \"Current balance: $\",self.balance)\n",
        "\n",
        "    def withdraw(self, amount):\n",
        "        if self.balance >= amount:\n",
        "            self.balance -= amount\n",
        "            print(\"Withdrew $\",amount,\" Current balance: $\",self.balance)\n",
        "        else:\n",
        "            print(\"Insufficient balance.\")\n",
        "\n",
        "    def get_balance(self):\n",
        "        return self.balance\n",
        "\n",
        "\n",
        "\n",
        "account1 = BankAccount(account_number=\"4444\", account_holder=\"youssef\")\n",
        "account1.deposit(1000)\n",
        "account1.withdraw(500)\n",
        "print(\"Final balance: $\" , account1.get_balance())\n",
        "\n",
        "class SavingsAccount(BankAccount):\n",
        "    def __init__(self, account_number, account_holder, interest_rate):\n",
        "        super().__init__(account_number, account_holder)\n",
        "        self.interest_rate = interest_rate\n",
        "\n",
        "    def apply_interest(self):\n",
        "        interest_amount = self.balance * (self.interest_rate / 100)\n",
        "        self.balance += interest_amount\n",
        "        print(\"Interest applied. Current balance: $\",self.balance)\n",
        "\n",
        "    def print(self):\n",
        "        print(\"Balance: $\",self.balance)\n",
        "        print(\"Interest rate:\",self.interest_rate,\"%\")\n",
        "\n",
        "\n",
        "savings_account = SavingsAccount(account_number=\"2222\", account_holder=\"noor\", interest_rate=8)\n",
        "savings_account.deposit(2000)\n",
        "savings_account.apply_interest()\n",
        "savings_account.print()"
      ],
      "metadata": {
        "colab": {
          "base_uri": "https://localhost:8080/"
        },
        "id": "OMy1YdTh0YkV",
        "outputId": "fba38ea2-6c0a-481c-c55a-ef590a038acc"
      },
      "execution_count": 85,
      "outputs": [
        {
          "output_type": "stream",
          "name": "stdout",
          "text": [
            "Deposited $ 1000 Current balance: $ 1000.0\n",
            "Withdrew $ 500  Current balance: $ 500.0\n",
            "Final balance: $ 500.0\n",
            "Deposited $ 2000 Current balance: $ 2000.0\n",
            "Interest applied. Current balance: $ 2160.0\n",
            "Balance: $ 2160.0\n",
            "Interest rate: 8 %\n"
          ]
        }
      ]
    },
    {
      "cell_type": "code",
      "source": [],
      "metadata": {
        "id": "Phlepj3JKKNg"
      },
      "execution_count": null,
      "outputs": []
    },
    {
      "cell_type": "code",
      "source": [],
      "metadata": {
        "id": "_dR5joLULnJZ"
      },
      "execution_count": null,
      "outputs": []
    }
  ]
}